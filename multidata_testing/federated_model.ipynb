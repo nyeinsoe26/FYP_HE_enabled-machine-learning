{
 "cells": [
  {
   "cell_type": "code",
   "execution_count": 1,
   "metadata": {},
   "outputs": [
    {
     "name": "stderr",
     "output_type": "stream",
     "text": [
      "Using TensorFlow backend.\n"
     ]
    }
   ],
   "source": [
    "import tensorflow as tf\n",
    "import keras\n",
    "from keras.models import Sequential\n",
    "from keras.layers import Dense,Dropout,Flatten,Conv2D,MaxPooling2D\n",
    "from pathlib import Path\n",
    "import numpy as np\n",
    "import pandas as pd\n",
    "import client_util"
   ]
  },
  {
   "cell_type": "code",
   "execution_count": 2,
   "metadata": {},
   "outputs": [],
   "source": [
    "#training specifications\n",
    "conv_fm1 = 50\n",
    "conv_fm2=60\n",
    "NUM_CLASSES=10"
   ]
  },
  {
   "cell_type": "code",
   "execution_count": 3,
   "metadata": {},
   "outputs": [],
   "source": [
    "def model(x,y_actual,NUM_CHANNELS,keep_prob):\n",
    "    print(\"=================Setting up Cifar10 model=================\")\n",
    "    #First convolution layer\n",
    "    with tf.variable_scope('conv_1',reuse=tf.AUTO_REUSE):\n",
    "        W1 = tf.Variable(tf.truncated_normal([5, 5, NUM_CHANNELS, conv_fm1], stddev=1.0 / np.sqrt(NUM_CHANNELS * 9 * 9)), name='weights_1')\n",
    "        b1 = tf.Variable(tf.zeros([conv_fm1]), name='biases_1')\n",
    "        conv_1 = tf.nn.relu(tf.nn.conv2d(x, W1, [1, 1, 1, 1], padding='SAME') + b1)\n",
    "        pool_1 = tf.nn.max_pool(conv_1, ksize=[1, 2, 2, 1], strides=[1, 2, 2, 1], padding='SAME', name='pool_1')\n",
    "        print(\"W1_shape: {}, b1_shape: {}\".format(tf.shape(W1),tf.shape(b1)))\n",
    "    \n",
    "    #2nd convolution layer\n",
    "    with tf.variable_scope('conv_2',reuse=tf.AUTO_REUSE):\n",
    "        W2 = tf.Variable(tf.truncated_normal([5, 5, conv_fm1, conv_fm2], stddev=1.0 / np.sqrt(5 * 5 * conv_fm1)), name='weights_2')\n",
    "        b2 = tf.Variable(tf.zeros([conv_fm2]), name='biases_2')\n",
    "        conv_2 = tf.nn.relu(tf.nn.conv2d(pool_1, W2, [1, 1, 1, 1], padding='SAME') + b2)\n",
    "        pool_2 = tf.nn.max_pool(conv_2, ksize=[1, 2, 2, 1], strides=[1, 2, 2, 1], padding='SAME', name='pool_2')\n",
    "        print(\"W2_shape: {}, b2_shape: {}\".format(tf.shape(W2),tf.shape(b2)))\n",
    "        \n",
    "    print(\"dim1 shape: {}, dim2 shape: {}, dim3 shape:{} \".format(pool_2.get_shape()[1].value,pool_2.get_shape()[2].value,pool_2.get_shape()[3].value))\n",
    "    #flatten pool_2\n",
    "    dim2 = pool_2.get_shape()[1].value * pool_2.get_shape()[2].value * pool_2.get_shape()[3].value\n",
    "    pool_2_flat = tf.reshape(pool_2, [-1, dim2])\n",
    "\n",
    "    #fully connected layer\n",
    "    with tf.variable_scope('fc_1',reuse = tf.AUTO_REUSE):\n",
    "        W_fc1 = tf.Variable(tf.truncated_normal([dim2, 300], stddev=1.0 / np.sqrt(dim2)), name='weights_3')\n",
    "        b_fc1 = tf.Variable(tf.zeros([300]), name='biases_3')\n",
    "        fc_1 = tf.nn.relu(tf.matmul(pool_2_flat, W_fc1) + b_fc1)\n",
    "        print(\"W_fc1_shape: {}, b_fc1_shape: {}\".format(tf.shape(W_fc1),tf.shape(b_fc1)))\n",
    "    \n",
    "    #add dropout layer\n",
    "    fc_1_drop = tf.nn.dropout(fc_1, keep_prob)\n",
    "\n",
    "    #predict output\n",
    "    W_fc2 = tf.Variable(tf.truncated_normal([300, NUM_CLASSES], stddev=1.0 / np.sqrt(300)), name='weights_4')\n",
    "    b_fc2 = tf.Variable(tf.zeros([NUM_CLASSES]), name='biases_4')\n",
    "    y_pred = tf.matmul(fc_1_drop, W_fc2) + b_fc2\n",
    "    print(\"W_fc2_shape: {}, b_fc2_shape: {}\".format(tf.shape(W_fc2),tf.shape(b_fc2)))\n",
    "    return y_pred"
   ]
  },
  {
   "cell_type": "code",
   "execution_count": 4,
   "metadata": {},
   "outputs": [],
   "source": [
    "#"
   ]
  }
 ],
 "metadata": {
  "kernelspec": {
   "display_name": "federated_learning",
   "language": "python",
   "name": "federated_learning"
  },
  "language_info": {
   "codemirror_mode": {
    "name": "ipython",
    "version": 3
   },
   "file_extension": ".py",
   "mimetype": "text/x-python",
   "name": "python",
   "nbconvert_exporter": "python",
   "pygments_lexer": "ipython3",
   "version": "3.7.6"
  }
 },
 "nbformat": 4,
 "nbformat_minor": 4
}
