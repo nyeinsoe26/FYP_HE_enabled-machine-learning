{
 "cells": [
  {
   "cell_type": "code",
   "execution_count": 1,
   "metadata": {},
   "outputs": [
    {
     "name": "stderr",
     "output_type": "stream",
     "text": [
      "Using TensorFlow backend.\n"
     ]
    }
   ],
   "source": [
    "import tensorflow as tf\n",
    "import keras\n",
    "from keras.models import Sequential\n",
    "from keras.layers import Dense,Dropout,Flatten,Conv2D,MaxPooling2D\n",
    "from pathlib import Path\n",
    "import numpy as np\n",
    "import pandas as pd"
   ]
  },
  {
   "cell_type": "code",
   "execution_count": 2,
   "metadata": {},
   "outputs": [],
   "source": [
    "#training specifications\n",
    "batch_size = 1000\n",
    "NUM_CHANNELS = 3 #RGB image\n",
    "conv_fm1 = 50\n",
    "conv_fm2=60\n",
    "NUM_CLASSES=10"
   ]
  },
  {
   "cell_type": "code",
   "execution_count": 3,
   "metadata": {},
   "outputs": [],
   "source": [
    "from keras.datasets import cifar10\n",
    "from keras.datasets import mnist\n",
    "from keras.datasets import fashion_mnist"
   ]
  },
  {
   "cell_type": "code",
   "execution_count": 4,
   "metadata": {},
   "outputs": [],
   "source": [
    "def load_dataset(data):\n",
    "    if data==\"cifar10\":\n",
    "        (x_train,y_train),(x_test,y_test) = cifar10.load_data()\n",
    "    else:\n",
    "        (x_train,y_train),(x_test,y_test) = mnist.load_data()\n",
    "    \n",
    "    print(\"x_train shape: {}, y_train shape: {}\".format(x_train.shape,y_train.shape))\n",
    "    print(\"x_train type: {}, y_train type: {}\".format(type(x_train),type(y_train)))\n",
    "    \n",
    "    return x_train,y_train,x_test,y_test"
   ]
  },
  {
   "cell_type": "code",
   "execution_count": 5,
   "metadata": {},
   "outputs": [],
   "source": [
    "def normalize_data(x_train,y_train,x_test,y_test):\n",
    "    x_train = x_train.astype(\"float32\")\n",
    "    x_test = x_test.astype(\"float32\")\n",
    "    x_train = x_train/255\n",
    "    x_test = x_test/255\n",
    "    y_train = keras.utils.to_categorical(y_train,10)\n",
    "    y_test = keras.utils.to_categorical(y_test,10)\n",
    "    print(\"x_train shape: {}, y_train shape: {}\".format(x_train.shape,y_train.shape))\n",
    "    print(\"x_train type: {}, y_train type: {}\".format(type(x_train),type(y_train)))\n",
    "    return x_train,y_train,x_test,y_test"
   ]
  },
  {
   "cell_type": "code",
   "execution_count": 6,
   "metadata": {},
   "outputs": [
    {
     "name": "stdout",
     "output_type": "stream",
     "text": [
      "x_train shape: (50000, 32, 32, 3), y_train shape: (50000, 1)\n",
      "x_train type: <class 'numpy.ndarray'>, y_train type: <class 'numpy.ndarray'>\n"
     ]
    }
   ],
   "source": [
    "x_train,y_train,x_test,y_test = load_dataset(\"cifar10\")"
   ]
  },
  {
   "cell_type": "code",
   "execution_count": 7,
   "metadata": {},
   "outputs": [
    {
     "name": "stdout",
     "output_type": "stream",
     "text": [
      "x_train shape: (50000, 32, 32, 3), y_train shape: (50000, 10)\n",
      "x_train type: <class 'numpy.ndarray'>, y_train type: <class 'numpy.ndarray'>\n"
     ]
    }
   ],
   "source": [
    "x_train,y_train,x_test,y_test = normalize_data(x_train,y_train,x_test,y_test)"
   ]
  },
  {
   "cell_type": "code",
   "execution_count": 8,
   "metadata": {},
   "outputs": [
    {
     "data": {
      "text/plain": [
       "<matplotlib.image.AxesImage at 0x27207be0048>"
      ]
     },
     "execution_count": 8,
     "metadata": {},
     "output_type": "execute_result"
    },
    {
     "data": {
      "image/png": "[encoded data removed]",
      "text/plain": [
       "<Figure size 432x288 with 1 Axes>"
      ]
     },
     "metadata": {
      "needs_background": "light"
     },
     "output_type": "display_data"
    }
   ],
   "source": [
    "from matplotlib import pyplot as plt\n",
    "plt.imshow(x_train[2])"
   ]
  },
  {
   "cell_type": "code",
   "execution_count": 9,
   "metadata": {},
   "outputs": [],
   "source": [
    "N = len(x_train)\n",
    "idx = np.arange(N)"
   ]
  },
  {
   "cell_type": "code",
   "execution_count": 10,
   "metadata": {},
   "outputs": [],
   "source": [
    "#declare placeholders\n",
    "x = tf.placeholder(tf.float32,shape=[None,32,32,3])\n",
    "y_actual = tf.placeholder(tf.float32,shape=[None,10])\n",
    "keep_prob = tf.placeholder(tf.float32)"
   ]
  },
  {
   "cell_type": "code",
   "execution_count": 11,
   "metadata": {},
   "outputs": [],
   "source": [
    "#setting up computation graph\n",
    "def init_weights(shape):\n",
    "    init_random_dist = tf.truncated_normal(shape, stddev=0.1)\n",
    "    return tf.Variable(init_random_dist)\n",
    "\n",
    "def init_bias(shape):\n",
    "    init_bias_vals = tf.constant(0.1, shape=shape)\n",
    "    return tf.Variable(init_bias_vals)\n",
    "\n",
    "def conv2d(x, W):\n",
    "    return tf.nn.conv2d(x, W, strides=[1, 1, 1, 1], padding='SAME')\n",
    "\n",
    "def max_pool_2by2(x):\n",
    "    return tf.nn.max_pool(x, ksize=[1, 2, 2, 1],\n",
    "                          strides=[1, 2, 2, 1], padding='SAME')\n",
    "\n",
    "def convolutional_layer(input_x, shape):\n",
    "    W = init_weights(shape)\n",
    "    b = init_bias([shape[3]])\n",
    "    return tf.nn.relu(conv2d(input_x, W) + b)\n",
    "\n",
    "def normal_full_layer(input_layer, size):\n",
    "    input_size = int(input_layer.get_shape()[1])\n",
    "    W = init_weights([input_size, size])\n",
    "    b = init_bias([size])\n",
    "    return tf.matmul(input_layer, W) + b"
   ]
  },
  {
   "cell_type": "code",
   "execution_count": 12,
   "metadata": {},
   "outputs": [
    {
     "name": "stdout",
     "output_type": "stream",
     "text": [
      "W1_shape: Tensor(\"conv_1/Shape:0\", shape=(4,), dtype=int32), b1_shape: Tensor(\"conv_1/Shape_1:0\", shape=(1,), dtype=int32)\n"
     ]
    }
   ],
   "source": [
    "with tf.variable_scope('conv_1',reuse=tf.AUTO_REUSE):\n",
    "    W1 = tf.Variable(tf.truncated_normal([9, 9, NUM_CHANNELS, conv_fm1], stddev=1.0 / np.sqrt(NUM_CHANNELS * 9 * 9)), name='weights_1')\n",
    "    b1 = tf.Variable(tf.zeros([conv_fm1]), name='biases_1')\n",
    "    conv_1 = tf.nn.relu(tf.nn.conv2d(x, W1, [1, 1, 1, 1], padding='VALID') + b1)\n",
    "    pool_1 = tf.nn.max_pool(conv_1, ksize=[1, 2, 2, 1], strides=[1, 2, 2, 1], padding='SAME', name='pool_1')\n",
    "    print(\"W1_shape: {}, b1_shape: {}\".format(tf.shape(W1),tf.shape(b1)))"
   ]
  },
  {
   "cell_type": "code",
   "execution_count": 13,
   "metadata": {},
   "outputs": [
    {
     "name": "stdout",
     "output_type": "stream",
     "text": [
      "W2_shape: Tensor(\"conv_2/Shape:0\", shape=(4,), dtype=int32), b2_shape: Tensor(\"conv_2/Shape_1:0\", shape=(1,), dtype=int32)\n"
     ]
    }
   ],
   "source": [
    "with tf.variable_scope('conv_2',reuse=tf.AUTO_REUSE):\n",
    "    W2 = tf.Variable(tf.truncated_normal([5, 5, conv_fm1, conv_fm2], stddev=1.0 / np.sqrt(5 * 5 * conv_fm1)), name='weights_2')\n",
    "    b2 = tf.Variable(tf.zeros([conv_fm2]), name='biases_2')\n",
    "    conv_2 = tf.nn.relu(tf.nn.conv2d(pool_1, W2, [1, 1, 1, 1], padding='SAME') + b2)\n",
    "    pool_2 = tf.nn.max_pool(conv_2, ksize=[1, 2, 2, 1], strides=[1, 2, 2, 1], padding='SAME', name='pool_2')\n",
    "    print(\"W2_shape: {}, b2_shape: {}\".format(tf.shape(W2),tf.shape(b2)))"
   ]
  },
  {
   "cell_type": "code",
   "execution_count": 14,
   "metadata": {},
   "outputs": [],
   "source": [
    "#flatten pool_2\n",
    "dim2 = pool_2.get_shape()[1].value * pool_2.get_shape()[2].value * pool_2.get_shape()[3].value\n",
    "pool_2_flat = tf.reshape(pool_2, [-1, dim2])"
   ]
  },
  {
   "cell_type": "code",
   "execution_count": 15,
   "metadata": {},
   "outputs": [
    {
     "name": "stdout",
     "output_type": "stream",
     "text": [
      "W_fc1_shape: Tensor(\"fc_1/Shape:0\", shape=(2,), dtype=int32), b_fc1_shape: Tensor(\"fc_1/Shape_1:0\", shape=(1,), dtype=int32)\n"
     ]
    }
   ],
   "source": [
    "with tf.variable_scope('fc_1',reuse = tf.AUTO_REUSE):\n",
    "    W_fc1 = tf.Variable(tf.truncated_normal([dim2, 300], stddev=1.0 / np.sqrt(dim2)), name='weights_3')\n",
    "    b_fc1 = tf.Variable(tf.zeros([300]), name='biases_3')\n",
    "    fc_1 = tf.nn.relu(tf.matmul(pool_2_flat, W_fc1) + b_fc1)\n",
    "    print(\"W_fc1_shape: {}, b_fc1_shape: {}\".format(tf.shape(W_fc1),tf.shape(b_fc1)))"
   ]
  },
  {
   "cell_type": "code",
   "execution_count": 16,
   "metadata": {},
   "outputs": [
    {
     "name": "stdout",
     "output_type": "stream",
     "text": [
      "WARNING:tensorflow:From <ipython-input-16-1fa34c616f3a>:2: calling dropout (from tensorflow.python.ops.nn_ops) with keep_prob is deprecated and will be removed in a future version.\n",
      "Instructions for updating:\n",
      "Please use `rate` instead of `keep_prob`. Rate should be set to `rate = 1 - keep_prob`.\n"
     ]
    }
   ],
   "source": [
    "#add dropout layer\n",
    "fc_1_drop = tf.nn.dropout(fc_1, keep_prob)"
   ]
  },
  {
   "cell_type": "code",
   "execution_count": 17,
   "metadata": {},
   "outputs": [
    {
     "name": "stdout",
     "output_type": "stream",
     "text": [
      "W_fc2_shape: Tensor(\"Shape:0\", shape=(2,), dtype=int32), b_fc2_shape: Tensor(\"Shape_1:0\", shape=(1,), dtype=int32)\n"
     ]
    }
   ],
   "source": [
    "#predict output\n",
    "W_fc2 = tf.Variable(tf.truncated_normal([300, NUM_CLASSES], stddev=1.0 / np.sqrt(300)), name='weights_4')\n",
    "b_fc2 = tf.Variable(tf.zeros([NUM_CLASSES]), name='biases_4')\n",
    "y_pred = tf.matmul(fc_1_drop, W_fc2) + b_fc2\n",
    "print(\"W_fc2_shape: {}, b_fc2_shape: {}\".format(tf.shape(W_fc2),tf.shape(b_fc2)))"
   ]
  },
  {
   "cell_type": "code",
   "execution_count": 18,
   "metadata": {},
   "outputs": [
    {
     "name": "stdout",
     "output_type": "stream",
     "text": [
      "WARNING:tensorflow:From <ipython-input-18-bdca94c8c9e6>:1: softmax_cross_entropy_with_logits (from tensorflow.python.ops.nn_ops) is deprecated and will be removed in a future version.\n",
      "Instructions for updating:\n",
      "\n",
      "Future major versions of TensorFlow will allow gradients to flow\n",
      "into the labels input on backprop by default.\n",
      "\n",
      "See `tf.nn.softmax_cross_entropy_with_logits_v2`.\n",
      "\n"
     ]
    }
   ],
   "source": [
    "cross_entropy = tf.reduce_mean(tf.nn.softmax_cross_entropy_with_logits(labels=y_actual,logits=y_pred))\n",
    "optimizer = tf.train.AdamOptimizer(learning_rate=0.001)\n",
    "train = optimizer.minimize(cross_entropy)"
   ]
  },
  {
   "cell_type": "code",
   "execution_count": 19,
   "metadata": {},
   "outputs": [],
   "source": [
    "with tf.variable_scope('acc',reuse = tf.AUTO_REUSE):\n",
    "    matches = tf.equal(tf.argmax(y_pred,1),tf.argmax(y_actual,1))\n",
    "    acc = tf.reduce_mean(tf.cast(matches,tf.float32)) "
   ]
  },
  {
   "cell_type": "code",
   "execution_count": 20,
   "metadata": {},
   "outputs": [
    {
     "name": "stdout",
     "output_type": "stream",
     "text": [
      "Epoch: 0, Training accuracy: 0.421999990940094, Testing accuracy: 0.4059999883174896, Training loss: 1.6116794347763062\n",
      "Epoch: 2, Training accuracy: 0.4959999918937683, Testing accuracy: 0.49900001287460327, Training loss: 1.418580174446106\n",
      "Epoch: 4, Training accuracy: 0.5720000267028809, Testing accuracy: 0.5809999704360962, Training loss: 1.1714320182800293\n",
      "Epoch: 6, Training accuracy: 0.5839999914169312, Testing accuracy: 0.5809999704360962, Training loss: 1.1164593696594238\n",
      "Epoch: 8, Training accuracy: 0.6259999871253967, Testing accuracy: 0.6399999856948853, Training loss: 1.0721182823181152\n",
      "W1_shape: Tensor(\"Shape_2:0\", shape=(4,), dtype=int32), b1_shape: Tensor(\"Shape_3:0\", shape=(1,), dtype=int32)\n",
      "saving conv_1_weights_1.txt\n",
      "saving conv_1_biases_1.txt\n",
      "saving conv_2_weights_2.txt\n",
      "saving conv_2_biases_2.txt\n",
      "saving fc_1_weights_3.txt\n",
      "saving fc_1_biases_3.txt\n",
      "saving weights_4.txt\n",
      "saving biases_4.txt\n"
     ]
    }
   ],
   "source": [
    "with tf.compat.v1.Session() as sess:\n",
    "    sess.run(tf.global_variables_initializer())\n",
    "    train_acc_list = []\n",
    "    train_loss_list = []\n",
    "    test_acc_list = []\n",
    "    \n",
    "    for epoch in range(10):\n",
    "        #shuffle data \n",
    "        np.random.shuffle(idx)\n",
    "        x_train, y_train = x_train[idx],y_train[idx]\n",
    "        for start,end in zip(range(0,N,batch_size),range(batch_size,N,batch_size)):\n",
    "            sess.run(train,feed_dict = {x:x_train[start:end], y_actual:y_train[start:end],keep_prob: 0.5})\n",
    "        \n",
    "        \n",
    "        train_acc = acc.eval(feed_dict = {x:x_train[start:end], y_actual:y_train[start:end],keep_prob: 0.5})\n",
    "        train_acc_list.append(train_acc)\n",
    "        \n",
    "        train_loss = cross_entropy.eval(feed_dict = {x:x_train[start:end], y_actual:y_train[start:end],keep_prob: 0.5})\n",
    "        train_loss_list.append(train_loss)\n",
    "        \n",
    "        test_acc = acc.eval(feed_dict = {x:x_train[start:end], y_actual:y_train[start:end],keep_prob: 0.5})\n",
    "        test_acc_list.append(test_acc)\n",
    "        \n",
    "        if epoch%2==0:\n",
    "            print(\"Epoch: {}, Training accuracy: {}, Testing accuracy: {}, Training loss: {}\".format(epoch,train_acc,test_acc,train_loss))\n",
    "        elif epoch==9:\n",
    "            print(\"W1_shape: {}, b1_shape: {}\".format(tf.shape(W1),tf.shape(b1)))\n",
    "           \n",
    "    for var in tf.compat.v1.get_collection(tf.compat.v1.GraphKeys.TRAINABLE_VARIABLES):\n",
    "        weight = (sess.run([var]))[0].flatten().tolist()\n",
    "        filename = (str(var).split())[1].replace('/', '_')\n",
    "        filename = filename.replace(\"'\", \"\").replace(':0', '') + '.txt'\n",
    "        print(\"saving {}\".format(filename))\n",
    "        np.savetxt(str(filename), weight)"
   ]
  },
  {
   "cell_type": "code",
   "execution_count": 21,
   "metadata": {},
   "outputs": [
    {
     "data": {
      "text/plain": [
       "<matplotlib.legend.Legend at 0x27320d6e908>"
      ]
     },
     "execution_count": 21,
     "metadata": {},
     "output_type": "execute_result"
    },
    {
     "data": {
      "image/png": "[encoded data removed]",
      "text/plain": [
       "<Figure size 432x288 with 1 Axes>"
      ]
     },
     "metadata": {
      "needs_background": "light"
     },
     "output_type": "display_data"
    }
   ],
   "source": [
    "plt.figure()\n",
    "plt.plot(range(10), train_loss_list, label='Training Loss')\n",
    "plt.xlabel('Epochs')\n",
    "plt.ylabel('Cross Entropy')\n",
    "plt.title(\"Cost against Training Epochs\")\n",
    "plt.legend()"
   ]
  },
  {
   "cell_type": "code",
   "execution_count": 22,
   "metadata": {},
   "outputs": [
    {
     "data": {
      "text/plain": [
       "<matplotlib.legend.Legend at 0x27320d49b88>"
      ]
     },
     "execution_count": 22,
     "metadata": {},
     "output_type": "execute_result"
    },
    {
     "data": {
      "image/png": "[encoded data removed]",
      "text/plain": [
       "<Figure size 432x288 with 1 Axes>"
      ]
     },
     "metadata": {
      "needs_background": "light"
     },
     "output_type": "display_data"
    }
   ],
   "source": [
    "plt.figure()\n",
    "plt.plot(range(10), train_acc_list, label='Training Set')\n",
    "plt.xlabel('Epochs')\n",
    "plt.ylabel('Prediction Accuracy')\n",
    "plt.title(\"Prediction Accuracy against Training Epochs\")\n",
    "plt.legend()"
   ]
  },
  {
   "cell_type": "code",
   "execution_count": null,
   "metadata": {},
   "outputs": [],
   "source": []
  }
 ],
 "metadata": {
  "kernelspec": {
   "display_name": "federated_learning",
   "language": "python",
   "name": "federated_learning"
  },
  "language_info": {
   "codemirror_mode": {
    "name": "ipython",
    "version": 3
   },
   "file_extension": ".py",
   "mimetype": "text/x-python",
   "name": "python",
   "nbconvert_exporter": "python",
   "pygments_lexer": "ipython3",
   "version": "3.7.6"
  }
 },
 "nbformat": 4,
 "nbformat_minor": 4
}
