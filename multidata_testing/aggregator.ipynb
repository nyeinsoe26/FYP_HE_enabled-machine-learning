{
 "cells": [
  {
   "cell_type": "code",
   "execution_count": 1,
   "metadata": {},
   "outputs": [
    {
     "name": "stderr",
     "output_type": "stream",
     "text": [
      "Using TensorFlow backend.\n"
     ]
    }
   ],
   "source": [
    "import tensorflow as tf\n",
    "import keras\n",
    "from keras.models import Sequential\n",
    "from keras.layers import Dense,Dropout,Flatten,Conv2D,MaxPooling2D\n",
    "from pathlib import Path\n",
    "import numpy as np\n",
    "import pandas as pd\n",
    "import client_util\n",
    "import os\n",
    "import federated_model\n",
    "from matplotlib import pyplot as plt"
   ]
  },
  {
   "cell_type": "code",
   "execution_count": 2,
   "metadata": {},
   "outputs": [],
   "source": [
    "def aggregator(client_1,client_2,client_3,client_4):\n",
    "    avg_weights = []\n",
    "    for i in range(len(client_1)):\n",
    "        temp = (client_1[i] + client_2[i] + client_3[i] + client_4[i])/4\n",
    "        avg_weights.append(temp)\n",
    "        print(\"printing temp shape: {}\".format(temp.shape))\n",
    "        temp = 0\n",
    "    return avg_weights"
   ]
  },
  {
   "cell_type": "code",
   "execution_count": 3,
   "metadata": {},
   "outputs": [
    {
     "name": "stdout",
     "output_type": "stream",
     "text": [
      "printing length of the client_list: 8\n",
      "printing length of the client_list: 8\n",
      "printing length of the client_list: 8\n",
      "printing length of the client_list: 8\n",
      "printing temp shape: (5, 5, 1, 50)\n",
      "printing temp shape: (50,)\n",
      "printing temp shape: (5, 5, 50, 60)\n",
      "printing temp shape: (60,)\n",
      "printing temp shape: (2940, 300)\n",
      "printing temp shape: (300,)\n",
      "printing temp shape: (300, 10)\n",
      "printing temp shape: (10,)\n"
     ]
    }
   ],
   "source": [
    "def main():\n",
    "    cwd = os.getcwd()\n",
    "    client_1 = client_util.read_clientDir(1,cwd)\n",
    "    client_2 = client_util.read_clientDir(2,cwd)\n",
    "    client_3 = client_util.read_clientDir(3,cwd)\n",
    "    client_4 = client_util.read_clientDir(4,cwd)\n",
    "    avg_weights = aggregator(client_1,client_2,client_3,client_4)\n",
    "    client_util.create_folder(\"avg_weights\",cwd)\n",
    "    client_util.save_clientData(avg_weights)\n",
    "    os.chdir(cwd)\n",
    "if __name__ == '__main__':\n",
    "    main()    "
   ]
  },
  {
   "cell_type": "code",
   "execution_count": null,
   "metadata": {},
   "outputs": [],
   "source": []
  },
  {
   "cell_type": "code",
   "execution_count": null,
   "metadata": {},
   "outputs": [],
   "source": []
  }
 ],
 "metadata": {
  "kernelspec": {
   "display_name": "federated_learning",
   "language": "python",
   "name": "federated_learning"
  },
  "language_info": {
   "codemirror_mode": {
    "name": "ipython",
    "version": 3
   },
   "file_extension": ".py",
   "mimetype": "text/x-python",
   "name": "python",
   "nbconvert_exporter": "python",
   "pygments_lexer": "ipython3",
   "version": "3.7.6"
  }
 },
 "nbformat": 4,
 "nbformat_minor": 4
}
